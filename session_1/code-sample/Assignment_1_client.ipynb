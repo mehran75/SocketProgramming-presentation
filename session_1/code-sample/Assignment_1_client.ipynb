{
  "nbformat": 4,
  "nbformat_minor": 0,
  "metadata": {
    "colab": {
      "name": "Assignment_1_client.ipynb",
      "version": "0.3.2",
      "provenance": []
    },
    "kernelspec": {
      "name": "python3",
      "display_name": "Python 3"
    }
  },
  "cells": [
    {
      "metadata": {
        "id": "LSfx2geQgXlj",
        "colab_type": "code",
        "colab": {
          "base_uri": "https://localhost:8080/",
          "height": 34
        },
        "outputId": "9954346d-40fc-40d8-f6ad-fea34c87c07a"
      },
      "cell_type": "code",
      "source": [
        "import io\n",
        "import socket\n",
        "import json\n",
        "from google.colab import drive\n",
        "drive.mount('/content/gdrive')\n",
        "\n",
        "hostname = '172.28.0.2'\n",
        "port = 8000\n",
        "\n",
        "\n",
        "\n",
        "htmlrequest = '''GET /hello.html HTTP/1.1'''"
      ],
      "execution_count": 52,
      "outputs": [
        {
          "output_type": "stream",
          "text": [
            "Drive already mounted at /content/gdrive; to attempt to forcibly remount, call drive.mount(\"/content/gdrive\", force_remount=True).\n"
          ],
          "name": "stdout"
        }
      ]
    },
    {
      "metadata": {
        "id": "5dobF2ukm2hm",
        "colab_type": "code",
        "colab": {
          "base_uri": "https://localhost:8080/",
          "height": 153
        },
        "outputId": "2b509270-3b1f-4a6d-e9bd-44e5575531a9"
      },
      "cell_type": "code",
      "source": [
        "client = socket.socket(socket.AF_INET, socket.SOCK_STREAM)\n",
        "client.connect((hostname,port))\n",
        "client.sendall(htmlrequest.encode())\n",
        "\n",
        "respond = client.recv(4096)\n",
        "print(respond.decode())\n",
        "\n",
        "client.close()"
      ],
      "execution_count": 53,
      "outputs": [
        {
          "output_type": "stream",
          "text": [
            "HTTP/1.1 200 OK\r\n",
            "Connection: close\r\n",
            "Content-Length: 40\r\n",
            "Content-Type: text/html\r\n",
            "\r\n",
            "<html>\r\n",
            "\r\n",
            "<p>Hi this is a dummy html</p>\n"
          ],
          "name": "stdout"
        }
      ]
    },
    {
      "metadata": {
        "id": "mNmfPhoNnICg",
        "colab_type": "code",
        "colab": {}
      },
      "cell_type": "code",
      "source": [
        ""
      ],
      "execution_count": 0,
      "outputs": []
    }
  ]
}