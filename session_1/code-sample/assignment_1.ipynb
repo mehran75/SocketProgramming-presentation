{
  "nbformat": 4,
  "nbformat_minor": 0,
  "metadata": {
    "colab": {
      "name": "assignment_1.ipynb",
      "version": "0.3.2",
      "provenance": [],
      "collapsed_sections": []
    },
    "kernelspec": {
      "name": "python3",
      "display_name": "Python 3"
    }
  },
  "cells": [
    {
      "metadata": {
        "id": "pJDXI6Y9ePAa",
        "colab_type": "text"
      },
      "cell_type": "markdown",
      "source": [
        "# Assignment 1 - web server\n",
        "\n",
        "In this assignment, you will develop a simple Web server in Python that is capable\n",
        "of processing only one request. Specifically, your Web server will \n",
        "\n",
        "(i) create a connection socket when contacted by a client (browser); \n",
        "\n",
        "(ii) receive the HTTP request from this connection;\n",
        "\n",
        "(iii) parse the request to determine the specific file being requested; \n",
        "\n",
        "(iv) get the requested file from the server’s file system; \n",
        "\n",
        "(v) create an HTTP response message consisting of the requested file preceded by header lines;\n",
        "and \n",
        "\n",
        "(vi) send the response over the TCP connection to the requesting browser. If a\n",
        "browser requests a file that is not present in your server, your server should return a\n",
        "“404 Not Found” error message.\n",
        "In the companion Web site, we provide the skeleton code for your server. Your\n",
        "job is to complete the code, run your server, and then test your server by sending\n",
        "requests from browsers running on different hosts. If you run your server on a host\n",
        "that already has a Web server running on it, then you should use a different port than\n",
        "port 80 for your Web server."
      ]
    },
    {
      "metadata": {
        "id": "uXjV20m_d4sV",
        "colab_type": "code",
        "colab": {}
      },
      "cell_type": "code",
      "source": [
        "import io\n",
        "import socket\n",
        "import json\n",
        "import mimetypes\n",
        "hostname = socket.gethostname()\n",
        "port = 8000"
      ],
      "execution_count": 0,
      "outputs": []
    },
    {
      "metadata": {
        "id": "PfCJvQHhhlvd",
        "colab_type": "code",
        "colab": {}
      },
      "cell_type": "code",
      "source": [
        "def resolve_request(request):\n",
        "    request_line, sep, request = request.partition(b'\\r\\n')\n",
        "    method, url, version = request_line.split(b' ')\n",
        "\n",
        "    return (url, version)\n",
        "\n",
        "  \n",
        "def generate_response(version, status_code, phrase, content_type, file_contents):\n",
        "    status_line = version + b' ' + ' '.join([status_code, phrase]).encode('ASCII')\n",
        "    connection_line = b'Connection: close'\n",
        "    content_length_line = ('Content-Length: ' + str(len(file_contents))).encode('ASCII')\n",
        "    content_type_line = ('Content-Type: ' + content_type).encode('ASCII')\n",
        "    response_body = file_contents\n",
        "    \n",
        "    return b'\\r\\n'.join([status_line, connection_line, content_length_line, content_type_line + b'\\r\\n', response_body])\n"
      ],
      "execution_count": 0,
      "outputs": []
    },
    {
      "metadata": {
        "id": "MQcIII8Kd_rx",
        "colab_type": "code",
        "outputId": "0ea21ed1-fa13-4a94-95fd-710376afa82e",
        "colab": {
          "base_uri": "https://localhost:8080/",
          "height": 537
        }
      },
      "cell_type": "code",
      "source": [
        "server_sock = socket.socket(socket.AF_INET, socket.SOCK_STREAM) # create a TCP socket\n",
        "\n",
        "server_sock.bind((hostname,port)) \n",
        "server_sock.listen(2)\n",
        "\n",
        "print(server_sock)\n",
        "while 1:\n",
        "  print('---Listening---\\n')\n",
        "\n",
        "  connect_sock, address = server_sock.accept()\n",
        "  request = connect_sock.recv(4096)\n",
        "\n",
        "  print('---Request comes from IP: ' + str(address[0]))\n",
        "\n",
        "  # ignore empty request\n",
        "  if len(request) == 0:\n",
        "      print('---Empty request, ignore')\n",
        "      print('')\n",
        "      continue\n",
        "\n",
        "  # resolve the request\n",
        "  url, version = resolve_request(request)\n",
        "  path = '/content/gdrive/My Drive/Colab Notebooks/socketProgramming/session1/' + url.decode('ASCII')\n",
        "\n",
        "  print('---Requested file path: ' + path)\n",
        "\n",
        "  # try to open the file in the filesystem\n",
        "  try:\n",
        "      file_contents = open(path, 'rb').read()\n",
        "      status_code = '200'\n",
        "      phrase = 'OK'\n",
        "      content_type = mimetypes.guess_type(path)[0]\n",
        "      if not content_type:\n",
        "          content_type = 'text/plain'            \n",
        "      print('---File ' + path + ' found, generate 200 OK response')\n",
        "  except IOError:\n",
        "      file_contents = b'404: Page Not Found - by Burgess Wong'\n",
        "      status_code = '404'\n",
        "      phrase = 'Not Found'\n",
        "      content_type = 'text/html'\n",
        "      print('---File ' + path + ' not found, generate 404 Not Found response')\n",
        "\n",
        "  # make the response message\n",
        "  response = generate_response(version, status_code, phrase, content_type, file_contents)\n",
        "\n",
        "  # send the response and close the socket\n",
        "  connect_sock.send(response)\n",
        "\n",
        "  print('---Response sent')\n",
        "\n",
        "  connect_sock.close()\n",
        "\n",
        "  print('---Connection with IP ' + str(address[0]) + ' closed\\n')"
      ],
      "execution_count": 70,
      "outputs": [
        {
          "output_type": "stream",
          "text": [
            "<socket.socket fd=80, family=AddressFamily.AF_INET, type=SocketKind.SOCK_STREAM, proto=0, laddr=('172.28.0.2', 8000)>\n",
            "---Listening---\n",
            "\n",
            "---Request comes from IP: 172.28.0.2\n",
            "---Requested file path: /content/gdrive/My Drive/Colab Notebooks/socketProgramming/session1//hello.html\n",
            "---File /content/gdrive/My Drive/Colab Notebooks/socketProgramming/session1//hello.html found, generate 200 OK response\n",
            "---Response sent\n",
            "---Connection with IP 172.28.0.2 closed\n",
            "\n",
            "---Listening---\n",
            "\n"
          ],
          "name": "stdout"
        },
        {
          "output_type": "error",
          "ename": "KeyboardInterrupt",
          "evalue": "ignored",
          "traceback": [
            "\u001b[0;31m---------------------------------------------------------------------------\u001b[0m",
            "\u001b[0;31mKeyboardInterrupt\u001b[0m                         Traceback (most recent call last)",
            "\u001b[0;32m<ipython-input-70-006262ec8ef8>\u001b[0m in \u001b[0;36m<module>\u001b[0;34m()\u001b[0m\n\u001b[1;32m      8\u001b[0m   \u001b[0mprint\u001b[0m\u001b[0;34m(\u001b[0m\u001b[0;34m'---Listening---\\n'\u001b[0m\u001b[0;34m)\u001b[0m\u001b[0;34m\u001b[0m\u001b[0;34m\u001b[0m\u001b[0m\n\u001b[1;32m      9\u001b[0m \u001b[0;34m\u001b[0m\u001b[0m\n\u001b[0;32m---> 10\u001b[0;31m   \u001b[0mconnect_sock\u001b[0m\u001b[0;34m,\u001b[0m \u001b[0maddress\u001b[0m \u001b[0;34m=\u001b[0m \u001b[0mserver_sock\u001b[0m\u001b[0;34m.\u001b[0m\u001b[0maccept\u001b[0m\u001b[0;34m(\u001b[0m\u001b[0;34m)\u001b[0m\u001b[0;34m\u001b[0m\u001b[0;34m\u001b[0m\u001b[0m\n\u001b[0m\u001b[1;32m     11\u001b[0m   \u001b[0mrequest\u001b[0m \u001b[0;34m=\u001b[0m \u001b[0mconnect_sock\u001b[0m\u001b[0;34m.\u001b[0m\u001b[0mrecv\u001b[0m\u001b[0;34m(\u001b[0m\u001b[0;36m4096\u001b[0m\u001b[0;34m)\u001b[0m\u001b[0;34m\u001b[0m\u001b[0;34m\u001b[0m\u001b[0m\n\u001b[1;32m     12\u001b[0m \u001b[0;34m\u001b[0m\u001b[0m\n",
            "\u001b[0;32m/usr/lib/python3.6/socket.py\u001b[0m in \u001b[0;36maccept\u001b[0;34m(self)\u001b[0m\n\u001b[1;32m    203\u001b[0m         \u001b[0mFor\u001b[0m \u001b[0mIP\u001b[0m \u001b[0msockets\u001b[0m\u001b[0;34m,\u001b[0m \u001b[0mthe\u001b[0m \u001b[0maddress\u001b[0m \u001b[0minfo\u001b[0m \u001b[0;32mis\u001b[0m \u001b[0ma\u001b[0m \u001b[0mpair\u001b[0m \u001b[0;34m(\u001b[0m\u001b[0mhostaddr\u001b[0m\u001b[0;34m,\u001b[0m \u001b[0mport\u001b[0m\u001b[0;34m)\u001b[0m\u001b[0;34m.\u001b[0m\u001b[0;34m\u001b[0m\u001b[0;34m\u001b[0m\u001b[0m\n\u001b[1;32m    204\u001b[0m         \"\"\"\n\u001b[0;32m--> 205\u001b[0;31m         \u001b[0mfd\u001b[0m\u001b[0;34m,\u001b[0m \u001b[0maddr\u001b[0m \u001b[0;34m=\u001b[0m \u001b[0mself\u001b[0m\u001b[0;34m.\u001b[0m\u001b[0m_accept\u001b[0m\u001b[0;34m(\u001b[0m\u001b[0;34m)\u001b[0m\u001b[0;34m\u001b[0m\u001b[0;34m\u001b[0m\u001b[0m\n\u001b[0m\u001b[1;32m    206\u001b[0m         \u001b[0;31m# If our type has the SOCK_NONBLOCK flag, we shouldn't pass it onto the\u001b[0m\u001b[0;34m\u001b[0m\u001b[0;34m\u001b[0m\u001b[0;34m\u001b[0m\u001b[0m\n\u001b[1;32m    207\u001b[0m         \u001b[0;31m# new socket. We do not currently allow passing SOCK_NONBLOCK to\u001b[0m\u001b[0;34m\u001b[0m\u001b[0;34m\u001b[0m\u001b[0;34m\u001b[0m\u001b[0m\n",
            "\u001b[0;31mKeyboardInterrupt\u001b[0m: "
          ]
        }
      ]
    },
    {
      "metadata": {
        "id": "wLjP5zUwqlLw",
        "colab_type": "code",
        "colab": {}
      },
      "cell_type": "code",
      "source": [
        ""
      ],
      "execution_count": 0,
      "outputs": []
    }
  ]
}