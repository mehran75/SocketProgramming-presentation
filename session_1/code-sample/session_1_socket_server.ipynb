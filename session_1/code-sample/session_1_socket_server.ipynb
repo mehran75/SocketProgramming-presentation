{
  "nbformat": 4,
  "nbformat_minor": 0,
  "metadata": {
    "colab": {
      "name": "session_1_socket_server.ipynb",
      "version": "0.3.2",
      "provenance": [],
      "collapsed_sections": [
        "RiG1_ech8yIP",
        "GtPBpZsmvUwA"
      ]
    },
    "kernelspec": {
      "name": "python3",
      "display_name": "Python 3"
    }
  },
  "cells": [
    {
      "metadata": {
        "id": "5MbQgDjf-BkM",
        "colab_type": "text"
      },
      "cell_type": "markdown",
      "source": [
        "# Table of content\n",
        "\n",
        "\n",
        "\n",
        "---\n",
        "\n",
        "\n",
        "\n",
        "---\n",
        "\n",
        "\n",
        "\n",
        "\n",
        "\n",
        "\n",
        "*   **What is socket programming**\n",
        " *  difinition\n",
        " *  connection types (TCP/UDP)\n",
        " * introduction to socket library in python\n",
        " \n",
        "*  ** Running some sample codes**\n",
        " * very simple socket connection\n",
        " * using json objects\n",
        " * implemet it with threads\n",
        "\n",
        "\n",
        "\n",
        "\n",
        "\n",
        "\n"
      ]
    },
    {
      "metadata": {
        "id": "-w-iggve016_",
        "colab_type": "code",
        "colab": {}
      },
      "cell_type": "code",
      "source": [
        "import socket\n",
        "import json\n",
        "\n",
        "\n",
        "# constants\n",
        "server_port = 12000\n",
        "#host_name = ''\n",
        "host_name = socket.gethostname()"
      ],
      "execution_count": 0,
      "outputs": []
    },
    {
      "metadata": {
        "id": "dOh0S4Zf_VsL",
        "colab_type": "text"
      },
      "cell_type": "markdown",
      "source": [
        ""
      ]
    },
    {
      "metadata": {
        "id": "RiG1_ech8yIP",
        "colab_type": "text"
      },
      "cell_type": "markdown",
      "source": [
        "# very simple socket connection"
      ]
    },
    {
      "metadata": {
        "id": "6mRNrp-Z05fr",
        "colab_type": "code",
        "outputId": "f644debd-4aac-44a7-f0a3-7d6047971136",
        "colab": {
          "base_uri": "https://localhost:8080/",
          "height": 248
        }
      },
      "cell_type": "code",
      "source": [
        "serverSocket = socket.socket(socket.AF_INET, socket.SOCK_DGRAM)\n",
        "serverSocket.bind((host_name, server_port))\n",
        "\n",
        "print (serverSocket)\n",
        "while 1:\n",
        "  message, clientAddress = serverSocket.recvfrom(2048)\n",
        "  print('message: ' + str(message.decode()) + '  <from>: ' + str(clientAddress))\n",
        "  response = 'hey, here is your answer'\n",
        "  serverSocket.sendto(response.encode(), clientAddress)"
      ],
      "execution_count": 0,
      "outputs": [
        {
          "output_type": "stream",
          "text": [
            "<socket.socket fd=59, family=AddressFamily.AF_INET, type=SocketKind.SOCK_DGRAM, proto=0, laddr=('0.0.0.0', 12000)>\n"
          ],
          "name": "stdout"
        },
        {
          "output_type": "error",
          "ename": "KeyboardInterrupt",
          "evalue": "ignored",
          "traceback": [
            "\u001b[0;31m---------------------------------------------------------------------------\u001b[0m",
            "\u001b[0;31mKeyboardInterrupt\u001b[0m                         Traceback (most recent call last)",
            "\u001b[0;32m<ipython-input-2-9809b5d41000>\u001b[0m in \u001b[0;36m<module>\u001b[0;34m()\u001b[0m\n\u001b[1;32m      4\u001b[0m \u001b[0mprint\u001b[0m \u001b[0;34m(\u001b[0m\u001b[0mserverSocket\u001b[0m\u001b[0;34m)\u001b[0m\u001b[0;34m\u001b[0m\u001b[0;34m\u001b[0m\u001b[0m\n\u001b[1;32m      5\u001b[0m \u001b[0;32mwhile\u001b[0m \u001b[0;36m1\u001b[0m\u001b[0;34m:\u001b[0m\u001b[0;34m\u001b[0m\u001b[0;34m\u001b[0m\u001b[0m\n\u001b[0;32m----> 6\u001b[0;31m   \u001b[0mmessage\u001b[0m\u001b[0;34m,\u001b[0m \u001b[0mclientAddress\u001b[0m \u001b[0;34m=\u001b[0m \u001b[0mserverSocket\u001b[0m\u001b[0;34m.\u001b[0m\u001b[0mrecvfrom\u001b[0m\u001b[0;34m(\u001b[0m\u001b[0;36m2048\u001b[0m\u001b[0;34m)\u001b[0m\u001b[0;34m\u001b[0m\u001b[0;34m\u001b[0m\u001b[0m\n\u001b[0m\u001b[1;32m      7\u001b[0m   \u001b[0mprint\u001b[0m\u001b[0;34m(\u001b[0m\u001b[0;34m'message: '\u001b[0m \u001b[0;34m+\u001b[0m \u001b[0mstr\u001b[0m\u001b[0;34m(\u001b[0m\u001b[0mmessage\u001b[0m\u001b[0;34m.\u001b[0m\u001b[0mdecode\u001b[0m\u001b[0;34m(\u001b[0m\u001b[0;34m)\u001b[0m\u001b[0;34m)\u001b[0m \u001b[0;34m+\u001b[0m \u001b[0;34m'  <from>: '\u001b[0m \u001b[0;34m+\u001b[0m \u001b[0mstr\u001b[0m\u001b[0;34m(\u001b[0m\u001b[0mclientAddress\u001b[0m\u001b[0;34m)\u001b[0m\u001b[0;34m)\u001b[0m\u001b[0;34m\u001b[0m\u001b[0;34m\u001b[0m\u001b[0m\n\u001b[1;32m      8\u001b[0m   \u001b[0mresponse\u001b[0m \u001b[0;34m=\u001b[0m \u001b[0;34m'hey, here is your answer'\u001b[0m\u001b[0;34m\u001b[0m\u001b[0;34m\u001b[0m\u001b[0m\n",
            "\u001b[0;31mKeyboardInterrupt\u001b[0m: "
          ]
        }
      ]
    },
    {
      "metadata": {
        "id": "GtPBpZsmvUwA",
        "colab_type": "text"
      },
      "cell_type": "markdown",
      "source": [
        "# using json objects\n",
        "\n",
        "let's make it a little realistic!"
      ]
    },
    {
      "metadata": {
        "id": "ugqYKEzi2Eae",
        "colab_type": "code",
        "colab": {}
      },
      "cell_type": "code",
      "source": [
        "def handle_requests(message):\n",
        "  \n",
        "  request = message['request']\n",
        "  \n",
        "  if request == 'HomePage':\n",
        "    return {\n",
        "        \"request\" : request,\n",
        "        \"respond\" : generate_homePage_respond()\n",
        "    }\n",
        "  elif request == 'AboutMe':\n",
        "    return {\n",
        "        \"request\" : request,\n",
        "        \"respond\" : generate_aboutMe_respond()\n",
        "    }\n",
        "  \n",
        "  \n",
        "  \n",
        "  \n",
        "#dummy functions   \n",
        "def generate_homePage_respond():\n",
        "  return 'This is HomePage HTML code' \n",
        "\n",
        "def generate_aboutMe_respond():\n",
        "  return 'This is AboutMe HTML code'"
      ],
      "execution_count": 0,
      "outputs": []
    },
    {
      "metadata": {
        "id": "5yRjYo1D1abV",
        "colab_type": "code",
        "outputId": "84865192-795a-45da-e597-1afedca63dec",
        "colab": {
          "base_uri": "https://localhost:8080/",
          "height": 231
        }
      },
      "cell_type": "code",
      "source": [
        "serverSocket = socket.socket(socket.AF_INET, socket.SOCK_DGRAM)\n",
        "serverSocket.bind((host_name, server_port))\n",
        "\n",
        "# this is only for TCP mode or SOCK_STREAM\n",
        "#serverSocket.listen(5)\n",
        "\n",
        "print (serverSocket)\n",
        "while 1:\n",
        "  print('waiting for client... ')\n",
        "  message, clientAddress = serverSocket.recvfrom(4096)\n",
        "  print('<message>: ' + str(message.decode()) + '  <from>: ' + str(clientAddress))\n",
        "  \n",
        "  # message will convert to json object\n",
        "  message = json.loads(message)\n",
        "  \n",
        "  # generate respond based on requested message\n",
        "  respond = handle_requests(message)  \n",
        "  \n",
        "  serverSocket.sendto(json.dumps(respond).encode(), clientAddress)\n",
        "  "
      ],
      "execution_count": 9,
      "outputs": [
        {
          "output_type": "error",
          "ename": "OSError",
          "evalue": "ignored",
          "traceback": [
            "\u001b[0;31m---------------------------------------------------------------------------\u001b[0m",
            "\u001b[0;31mOSError\u001b[0m                                   Traceback (most recent call last)",
            "\u001b[0;32m<ipython-input-9-b8f9f8fe3607>\u001b[0m in \u001b[0;36m<module>\u001b[0;34m()\u001b[0m\n\u001b[1;32m      2\u001b[0m \u001b[0mserverSocket\u001b[0m\u001b[0;34m.\u001b[0m\u001b[0mbind\u001b[0m\u001b[0;34m(\u001b[0m\u001b[0;34m(\u001b[0m\u001b[0mhost_name\u001b[0m\u001b[0;34m,\u001b[0m \u001b[0mserver_port\u001b[0m\u001b[0;34m)\u001b[0m\u001b[0;34m)\u001b[0m\u001b[0;34m\u001b[0m\u001b[0;34m\u001b[0m\u001b[0m\n\u001b[1;32m      3\u001b[0m \u001b[0;34m\u001b[0m\u001b[0m\n\u001b[0;32m----> 4\u001b[0;31m \u001b[0mserverSocket\u001b[0m\u001b[0;34m.\u001b[0m\u001b[0mlisten\u001b[0m\u001b[0;34m(\u001b[0m\u001b[0;36m5\u001b[0m\u001b[0;34m)\u001b[0m\u001b[0;34m\u001b[0m\u001b[0;34m\u001b[0m\u001b[0m\n\u001b[0m\u001b[1;32m      5\u001b[0m \u001b[0;34m\u001b[0m\u001b[0m\n\u001b[1;32m      6\u001b[0m \u001b[0mprint\u001b[0m \u001b[0;34m(\u001b[0m\u001b[0mserverSocket\u001b[0m\u001b[0;34m)\u001b[0m\u001b[0;34m\u001b[0m\u001b[0;34m\u001b[0m\u001b[0m\n",
            "\u001b[0;31mOSError\u001b[0m: [Errno 95] Operation not supported"
          ]
        }
      ]
    },
    {
      "metadata": {
        "id": "LGtdIEhW_W97",
        "colab_type": "text"
      },
      "cell_type": "markdown",
      "source": [
        "# implemet it with threads\n",
        "\n",
        "using threads to handle multiple clients at the same time"
      ]
    },
    {
      "metadata": {
        "id": "D-B3kYFE_d_4",
        "colab_type": "code",
        "colab": {}
      },
      "cell_type": "code",
      "source": [
        ""
      ],
      "execution_count": 0,
      "outputs": []
    }
  ]
}