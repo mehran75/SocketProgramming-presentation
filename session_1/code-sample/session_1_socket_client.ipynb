{
  "nbformat": 4,
  "nbformat_minor": 0,
  "metadata": {
    "colab": {
      "name": "session_1_socket_client.ipynb",
      "version": "0.3.2",
      "provenance": [],
      "collapsed_sections": []
    },
    "kernelspec": {
      "name": "python3",
      "display_name": "Python 3"
    }
  },
  "cells": [
    {
      "metadata": {
        "id": "ZyfjX19_3Mfx",
        "colab_type": "code",
        "colab": {}
      },
      "cell_type": "code",
      "source": [
        "import socket\n",
        "import json\n",
        "\n",
        "\n",
        "# constants\n",
        "serverName = '0.0.0.0'\n",
        "serverPort = 12000\n",
        "\n"
      ],
      "execution_count": 0,
      "outputs": []
    },
    {
      "metadata": {
        "id": "7blPXl2B4pXW",
        "colab_type": "text"
      },
      "cell_type": "markdown",
      "source": [
        "# Simple client"
      ]
    },
    {
      "metadata": {
        "id": "dHw8tB-w4bKu",
        "colab_type": "code",
        "colab": {}
      },
      "cell_type": "code",
      "source": [
        "clientSocket = socket.socket(socket.AF_INET, socket.SOCK_DGRAM)\n",
        "message = 'This is me'\n",
        "clientSocket.sendto(message.encode(),(serverName, serverPort))\n",
        "modifiedMessage, serverAddress = clientSocket.recvfrom(2048)\n",
        "print (modifiedMessage.decode())\n",
        "clientSocket.close()"
      ],
      "execution_count": 0,
      "outputs": []
    },
    {
      "metadata": {
        "id": "9_MoMXXE4x7F",
        "colab_type": "text"
      },
      "cell_type": "markdown",
      "source": [
        "# client with Json request"
      ]
    },
    {
      "metadata": {
        "id": "rO5YJiaE3STP",
        "colab_type": "code",
        "outputId": "597b453e-e78d-460b-9231-bce9e9e60cc3",
        "colab": {
          "base_uri": "https://localhost:8080/",
          "height": 51
        }
      },
      "cell_type": "code",
      "source": [
        "clientSocket = socket.socket(socket.AF_INET, socket.SOCK_DGRAM)\n",
        "\n",
        "message = {\n",
        "    \"request\" : \"HomePage\"\n",
        "}\n",
        "\n",
        "clientSocket.sendto(json.dumps(message).encode(),(serverName, serverPort))\n",
        "respond, serverAddress = clientSocket.recvfrom(2048)\n",
        "print (respond.decode())\n",
        "\n",
        "\n",
        "message = {\n",
        "    \"request\" : \"AboutMe\"\n",
        "}\n",
        "\n",
        "clientSocket.sendto(json.dumps(message).encode(),(serverName, serverPort))\n",
        "respond, serverAddress = clientSocket.recvfrom(2048)\n",
        "print (respond.decode())\n",
        "\n",
        "clientSocket.close()"
      ],
      "execution_count": 4,
      "outputs": [
        {
          "output_type": "stream",
          "text": [
            "{\"request\": \"HomePage\", \"respond\": \"This is HomePage HTML code\"}\n",
            "{\"request\": \"AboutMe\", \"respond\": \"This is AboutMe HTML code\"}\n"
          ],
          "name": "stdout"
        }
      ]
    },
    {
      "metadata": {
        "id": "zEqZb8f38LCN",
        "colab_type": "code",
        "colab": {}
      },
      "cell_type": "code",
      "source": [
        ""
      ],
      "execution_count": 0,
      "outputs": []
    }
  ]
}